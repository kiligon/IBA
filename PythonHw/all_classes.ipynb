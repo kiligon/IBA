{
 "cells": [
  {
   "cell_type": "code",
   "execution_count": 1,
   "id": "7632012b",
   "metadata": {},
   "outputs": [],
   "source": [
    "class Log():\n",
    "    \n",
    "    def __init__(self, index):\n",
    "        self.index = index\n",
    "    \n",
    "    def __add__(self, b):\n",
    "        return Log(self.index*b.index)\n",
    "    \n",
    "    def __str__(self):\n",
    "        return(\"Log({})\".format(self.index))"
   ]
  },
  {
   "cell_type": "code",
   "execution_count": 2,
   "id": "c18b4b1b",
   "metadata": {},
   "outputs": [],
   "source": [
    "class New_str(str):\n",
    "    \n",
    "    def is_repeatance(self, s):\n",
    "        if type(s) != str:\n",
    "            return False\n",
    "        else:\n",
    "            return len(self) == self.count(s)*len(s)\n",
    "    \n",
    "    def is_palindrom(self):\n",
    "        return self.lower() == self.lower()[::-1]"
   ]
  },
  {
   "cell_type": "code",
   "execution_count": 3,
   "id": "9625e294",
   "metadata": {},
   "outputs": [],
   "source": [
    "from math import pi\n",
    "\n",
    "\n",
    "class Cylinder:\n",
    "    @staticmethod\n",
    "    def make_area(d, h):\n",
    "        circle = pi * d ** 2 / 4\n",
    "        side = pi * d * h\n",
    "        return round(circle*2 + side, 2)\n",
    "\n",
    "    def __init__(self, diameter, high):\n",
    "        self.h = high\n",
    "        self.dia = diameter\n",
    "        self.__area = self.make_area(self.dia, self.h)\n",
    "\n",
    "    def __setattr__(self, attr, value):\n",
    "        if attr in ('dia', 'h', '_Cylinder__area'):\n",
    "            if attr == '_Cylinder__area':\n",
    "                self.__dict__[attr] = self.make_area(self.dia, self.h)\n",
    "            else:\n",
    "                self.__dict__[attr] = value\n",
    "                if 'dia' in self.__dict__.keys() and 'h' in self.__dict__.keys():\n",
    "                    self.__dict__['_Cylinder__area'] = self.make_area(self.dia, self.h)\n",
    "        else:\n",
    "            raise AttributeError"
   ]
  }
 ],
 "metadata": {
  "kernelspec": {
   "display_name": "Python 3 (ipykernel)",
   "language": "python",
   "name": "python3"
  },
  "language_info": {
   "codemirror_mode": {
    "name": "ipython",
    "version": 3
   },
   "file_extension": ".py",
   "mimetype": "text/x-python",
   "name": "python",
   "nbconvert_exporter": "python",
   "pygments_lexer": "ipython3",
   "version": "3.8.10"
  }
 },
 "nbformat": 4,
 "nbformat_minor": 5
}
